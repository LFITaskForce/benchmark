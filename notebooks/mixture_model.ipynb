{
 "cells": [
  {
   "cell_type": "markdown",
   "metadata": {},
   "source": [
    "# Mixture Model"
   ]
  },
  {
   "cell_type": "code",
   "execution_count": 1,
   "metadata": {
    "collapsed": true
   },
   "outputs": [],
   "source": [
    "import sys\n",
    "import numpy as np\n",
    "from matplotlib import pyplot as plt\n",
    "%matplotlib inline\n",
    "\n",
    "import torch\n",
    "import pyro\n",
    "from pyro.distributions import Normal, Cauchy, Exponential\n",
    "\n",
    "sys.path.append(\"..\")\n",
    "import benchmark\n",
    "from benchmark.mixture_model import MixtureModelSimulator\n",
    "from benchmark.analyse_trace import calculate_joint_log_ratio"
   ]
  },
  {
   "cell_type": "markdown",
   "metadata": {},
   "source": [
    "## Build mixture model"
   ]
  },
  {
   "cell_type": "code",
   "execution_count": 2,
   "metadata": {
    "collapsed": true
   },
   "outputs": [],
   "source": [
    "distributions = [Normal, Cauchy, Exponential]\n",
    "\n",
    "sim = MixtureModelSimulator(distributions)"
   ]
  },
  {
   "cell_type": "code",
   "execution_count": 3,
   "metadata": {
    "collapsed": true
   },
   "outputs": [],
   "source": [
    "def make_input(n_samples, weights, normal_params, cauchy_params, exp_params):\n",
    "    theta = list(weights) + list(normal_params) + list(cauchy_params) + list(exp_params)\n",
    "    return torch.tensor(n_samples * [theta])\n",
    "\n",
    "theta = make_input(100000, [0.5, 0.3, 0.2], [2.,0.6], [4., 0.4], [0.5])"
   ]
  },
  {
   "cell_type": "markdown",
   "metadata": {},
   "source": [
    "## Forward mode and true likelihood"
   ]
  },
  {
   "cell_type": "code",
   "execution_count": 4,
   "metadata": {},
   "outputs": [
    {
     "data": {
      "text/plain": [
       "torch.Size([10000, 1])"
      ]
     },
     "execution_count": 4,
     "metadata": {},
     "output_type": "execute_result"
    }
   ],
   "source": [
    "theta = make_input(10000, [0.5, 0.3, 0.2], [2.,0.6], [4., 0.4], [0.5])\n",
    "x = sim(theta)\n",
    "x.size()"
   ]
  },
  {
   "cell_type": "code",
   "execution_count": 5,
   "metadata": {
    "collapsed": true
   },
   "outputs": [],
   "source": [
    "x_grid = torch.linspace(-1., 7., 100)\n",
    "theta_grid = make_input(100, [0.5, 0.3, 0.2], [2.,0.6], [4., 0.4], [0.5])\n",
    "log_p = sim.log_prob(theta_grid, x_grid)"
   ]
  },
  {
   "cell_type": "code",
   "execution_count": 6,
   "metadata": {},
   "outputs": [
    {
     "data": {
      "image/png": "[encoded data removed]",
      "text/plain": [
       "<Figure size 360x360 with 1 Axes>"
      ]
     },
     "metadata": {
      "needs_background": "light"
     },
     "output_type": "display_data"
    }
   ],
   "source": [
    "fig = plt.figure(figsize=(5,5))\n",
    "\n",
    "plt.plot(\n",
    "    x_grid.numpy().flatten(),\n",
    "    np.exp(log_p.numpy().flatten()),\n",
    "    label=\"True likelihood\",\n",
    "    lw=1.5\n",
    ")\n",
    "\n",
    "plt.hist(x.data.flatten(), range=(-1.,8.), bins=100, histtype=\"step\", lw=1.5, density=True, label=\"Histogram\")\n",
    "\n",
    "plt.legend()\n",
    "\n",
    "plt.xlim(-1.,7.)\n",
    "plt.ylim(0., 0.45)\n",
    "\n",
    "plt.xlabel(\"$x$\")\n",
    "plt.ylabel(r\"$p(x | \\theta)$\")\n",
    "\n",
    "plt.show()"
   ]
  },
  {
   "cell_type": "markdown",
   "metadata": {},
   "source": [
    "## Trace info"
   ]
  },
  {
   "cell_type": "code",
   "execution_count": 7,
   "metadata": {
    "collapsed": true
   },
   "outputs": [],
   "source": [
    "trace = sim.trace(theta)"
   ]
  },
  {
   "cell_type": "code",
   "execution_count": 8,
   "metadata": {},
   "outputs": [
    {
     "name": "stdout",
     "output_type": "stream",
     "text": [
      "Categorical(probs: torch.Size([10000, 3]), logits: torch.Size([10000, 3])) tensor([0, 2, 0,  ..., 1, 2, 2]) tensor([[ 0.5000,  0.3000,  0.2000, -0.6931, -1.2040, -1.6094],\n",
      "        [ 0.5000,  0.3000,  0.2000, -0.6931, -1.2040, -1.6094],\n",
      "        [ 0.5000,  0.3000,  0.2000, -0.6931, -1.2040, -1.6094],\n",
      "        ...,\n",
      "        [ 0.5000,  0.3000,  0.2000, -0.6931, -1.2040, -1.6094],\n",
      "        [ 0.5000,  0.3000,  0.2000, -0.6931, -1.2040, -1.6094],\n",
      "        [ 0.5000,  0.3000,  0.2000, -0.6931, -1.2040, -1.6094]])\n",
      "Normal(scale: torch.Size([4943]), loc: torch.Size([4943])) tensor([1.5791, 2.0450, 1.6832,  ..., 1.8788, 2.3912, 2.9907]) tensor([[2.0000, 0.6000],\n",
      "        [2.0000, 0.6000],\n",
      "        [2.0000, 0.6000],\n",
      "        ...,\n",
      "        [2.0000, 0.6000],\n",
      "        [2.0000, 0.6000],\n",
      "        [2.0000, 0.6000]])\n",
      "Cauchy(scale: torch.Size([3040]), loc: torch.Size([3040])) tensor([3.9101, 3.7553, 3.8786,  ..., 6.1596, 4.5438, 2.0035]) tensor([[4.0000, 0.4000],\n",
      "        [4.0000, 0.4000],\n",
      "        [4.0000, 0.4000],\n",
      "        ...,\n",
      "        [4.0000, 0.4000],\n",
      "        [4.0000, 0.4000],\n",
      "        [4.0000, 0.4000]])\n",
      "Exponential(rate: torch.Size([2017])) tensor([0.0849, 0.2550, 3.0136,  ..., 1.2924, 0.8086, 0.3621]) tensor([[0.5000],\n",
      "        [0.5000],\n",
      "        [0.5000],\n",
      "        ...,\n",
      "        [0.5000],\n",
      "        [0.5000],\n",
      "        [0.5000]])\n"
     ]
    },
    {
     "data": {
      "text/plain": [
       "0.0"
      ]
     },
     "execution_count": 8,
     "metadata": {},
     "output_type": "execute_result"
    }
   ],
   "source": [
    "theta_ref = torch.tensor([0.5, 0.3, 0.2, 2.,0.6, 4., 0.4, 0.5])\n",
    "\n",
    "calculate_joint_log_ratio(trace, params0=None, params1=theta_ref)"
   ]
  },
  {
   "cell_type": "code",
   "execution_count": null,
   "metadata": {
    "collapsed": true
   },
   "outputs": [],
   "source": []
  }
 ],
 "metadata": {
  "kernelspec": {
   "display_name": "Python (benchmark)",
   "language": "python",
   "name": "benchmark"
  },
  "language_info": {
   "codemirror_mode": {
    "name": "ipython",
    "version": 3
   },
   "file_extension": ".py",
   "mimetype": "text/x-python",
   "name": "python",
   "nbconvert_exporter": "python",
   "pygments_lexer": "ipython3",
   "version": "3.5.6"
  }
 },
 "nbformat": 4,
 "nbformat_minor": 2
}
